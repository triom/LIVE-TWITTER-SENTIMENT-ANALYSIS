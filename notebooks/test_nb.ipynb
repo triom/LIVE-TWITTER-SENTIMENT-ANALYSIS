{
 "cells": [
  {
   "cell_type": "code",
   "execution_count": null,
   "metadata": {},
   "outputs": [],
   "source": [
    "import os\n",
    "from kafka import KafkaProducer\n",
    "\n",
    "# Set up Kafka Producer\n",
    "producer = KafkaProducer(bootstrap_servers='localhost:9092')  # Update with your Kafka server\n",
    "\n",
    "source_folder = 'path_to_source_folder'\n",
    "\n",
    "def read_and_send_files(folder):\n",
    "    for filename in os.listdir(folder):\n",
    "        file_path = os.path.join(folder, filename)\n",
    "        if os.path.isfile(file_path):\n",
    "            # Read the file contents\n",
    "            with open(file_path, 'rb') as file:\n",
    "                file_content = file.read()\n",
    "            \n",
    "            # Send file content to Kafka topic\n",
    "            producer.send('file-topic', value=file_content, key=filename.encode())  # Send the filename as the key\n",
    "            \n",
    "            print(f\"Sent file: {filename} to Kafka topic\")\n",
    "\n",
    "read_and_send_files(source_folder)\n"
   ]
  }
 ],
 "metadata": {
  "kernelspec": {
   "display_name": ".venv",
   "language": "python",
   "name": "python3"
  },
  "language_info": {
   "codemirror_mode": {
    "name": "ipython",
    "version": 3
   },
   "file_extension": ".py",
   "mimetype": "text/x-python",
   "name": "python",
   "nbconvert_exporter": "python",
   "pygments_lexer": "ipython3",
   "version": "3.12.0"
  }
 },
 "nbformat": 4,
 "nbformat_minor": 2
}
