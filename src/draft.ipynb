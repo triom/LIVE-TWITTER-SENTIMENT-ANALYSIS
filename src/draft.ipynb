{
 "cells": [
  {
   "cell_type": "code",
   "execution_count": null,
   "metadata": {},
   "outputs": [],
   "source": [
    "import pandas as pd\n",
    "from transformers import pipeline"
   ]
  },
  {
   "cell_type": "code",
   "execution_count": 13,
   "metadata": {},
   "outputs": [],
   "source": [
    "def sentiment_analysis(df):\n",
    "    \n",
    "    model_path = \"cardiffnlp/twitter-xlm-roberta-base-sentiment-multilingual\"\n",
    "    analyser = pipeline(\"sentiment-analysis\", model=model_path)\n",
    "    \n",
    "    df['scores'] = df['tweet'].apply(lambda text: analyser (text.lower()))\n",
    "    df['Sentiment'] = df['scores'].apply(lambda output: output[0]['label']) \n",
    "    df['Sentiment'] = df['Sentiment'].apply(lambda x: 'Positive' if x == 'positive' else ('Negative' if x == 'negative' else 'Neutral')) \n",
    "    \n",
    "    df =  df.drop(columns = [\"scores\"])\n",
    "    return df"
   ]
  },
  {
   "cell_type": "code",
   "execution_count": 26,
   "metadata": {},
   "outputs": [
    {
     "name": "stdout",
     "output_type": "stream",
     "text": [
      "neutral\n"
     ]
    }
   ],
   "source": [
    "import pandas as pd\n",
    "from vaderSentiment.vaderSentiment import SentimentIntensityAnalyzer\n",
    "\n",
    "# Load your CSV file\n",
    "# data = pd.read_csv('data.csv') \n",
    "\n",
    "# Initialize VADER sentiment analyzer\n",
    "analyzer = SentimentIntensityAnalyzer()\n",
    "\n",
    "# Function to analyze sentiment and classify based on compound score\n",
    "def classify_sentiment(text):\n",
    "    # Get sentiment scores\n",
    "    scores = analyzer.polarity_scores(text)\n",
    "    \n",
    "    # Get individual scores\n",
    "    neg_score = scores['neg']\n",
    "    neu_score = scores['neu']\n",
    "    pos_score = scores['pos']\n",
    "    compound_score = scores['compound']\n",
    "    \n",
    "    # Check if compound score is the highest\n",
    "    if compound_score >= max(neg_score, neu_score, pos_score):\n",
    "        # Classify based on compound score\n",
    "        if compound_score >= 0.05:\n",
    "            return \"positive\"\n",
    "        elif compound_score > -0.05:\n",
    "            return \"neutral\"\n",
    "        else:\n",
    "            return \"negative\"\n",
    "    else:\n",
    "        # Classify based on the highest individual score\n",
    "        highest_score = max(neg_score, neu_score, pos_score)\n",
    "        if highest_score == neg_score:\n",
    "            return \"negative\"\n",
    "        elif highest_score == neu_score:\n",
    "            return \"neutral\"\n",
    "        else:\n",
    "            return \"positive\"\n",
    "text = \"This movie was okay, not great but not terrible\"\n",
    "print(classify_sentiment(text))\n",
    "\n",
    "# # Apply the sentiment analysis function to the 'text' column\n",
    "# data['sentiment'] = data['text'].apply(classify_sentiment)\n",
    "\n",
    "# # Save the results to a new CSV file\n",
    "# data.to_csv('data_with_sentiment.csv', index=False)\n",
    "\n",
    "# print(\"Sentiment analysis complete! Results saved to 'data_with_sentiment.csv'.\")\n"
   ]
  },
  {
   "cell_type": "code",
   "execution_count": 28,
   "metadata": {},
   "outputs": [
    {
     "name": "stderr",
     "output_type": "stream",
     "text": [
      "The attention mask and the pad token id were not set. As a consequence, you may observe unexpected behavior. Please pass your input's `attention_mask` to obtain reliable results.\n",
      "Setting `pad_token_id` to `eos_token_id`:50256 for open-end generation.\n"
     ]
    },
    {
     "name": "stdout",
     "output_type": "stream",
     "text": [
      "What is the sentiment of the following text? 'This movie was okay, not great but not terrible'\n",
      "\n",
      "I have been watching and looking at the movie because it's the same kind of movie that people should like. It's a movie with lots of character, lots of sex, big sex scenes, lots of nudity. They all have an emotional intensity to them, it's like a musical. When you look up to a big movie like this, it's the most emotional movie ever made\n"
     ]
    }
   ],
   "source": [
    "import pandas as pd\n",
    "from transformers import GPT2LMHeadModel, GPT2Tokenizer\n",
    "\n",
    "# Load GPT-2\n",
    "model_name = \"gpt2\"\n",
    "model = GPT2LMHeadModel.from_pretrained(model_name)\n",
    "tokenizer = GPT2Tokenizer.from_pretrained(model_name)\n",
    "\n",
    "# Load CSV file\n",
    "# data = pd.read_csv('data.csv')\n",
    "\n",
    "# Function to analyze sentiment\n",
    "def analyze_sentiment(text):\n",
    "    prompt = f\"What is the sentiment of the following text? '{text}'\"\n",
    "    inputs = tokenizer(prompt, return_tensors=\"pt\")\n",
    "    outputs = model.generate(inputs.input_ids, max_length=100, do_sample=True)\n",
    "    return tokenizer.decode(outputs[0], skip_special_tokens=True)\n",
    "\n",
    "# Apply sentiment analysis to each row in the 'text' column\n",
    "# data['sentiment'] = data['text'].apply(analyze_sentiment)\n",
    "\n",
    "# # Save the results to a new CSV file\n",
    "# data.to_csv('data_with_sentiment.csv', index=False)\n",
    "\n",
    "# print(\"Sentiment analysis complete! Results saved to 'data_with_sentiment.csv'.\")\n",
    "print(analyze_sentiment(text))\n"
   ]
  }
 ],
 "metadata": {
  "kernelspec": {
   "display_name": ".venv",
   "language": "python",
   "name": "python3"
  },
  "language_info": {
   "codemirror_mode": {
    "name": "ipython",
    "version": 3
   },
   "file_extension": ".py",
   "mimetype": "text/x-python",
   "name": "python",
   "nbconvert_exporter": "python",
   "pygments_lexer": "ipython3",
   "version": "3.12.0"
  }
 },
 "nbformat": 4,
 "nbformat_minor": 2
}
